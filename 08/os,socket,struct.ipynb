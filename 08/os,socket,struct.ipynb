{
 "cells": [
  {
   "attachments": {},
   "cell_type": "markdown",
   "metadata": {},
   "source": [
    "### os 예시"
   ]
  },
  {
   "cell_type": "code",
   "execution_count": 31,
   "metadata": {},
   "outputs": [],
   "source": [
    "import os"
   ]
  },
  {
   "attachments": {},
   "cell_type": "markdown",
   "metadata": {},
   "source": [
    "- `getcwd()` : Get current working directory"
   ]
  },
  {
   "cell_type": "code",
   "execution_count": 32,
   "metadata": {},
   "outputs": [
    {
     "data": {
      "text/plain": [
       "'/home/toygoon/workspace/NetworkCryptoExamples/08'"
      ]
     },
     "execution_count": 32,
     "metadata": {},
     "output_type": "execute_result"
    }
   ],
   "source": [
    "os.getcwd()"
   ]
  },
  {
   "attachments": {},
   "cell_type": "markdown",
   "metadata": {},
   "source": [
    "- `listdir()` : List files of current directory"
   ]
  },
  {
   "cell_type": "code",
   "execution_count": 33,
   "metadata": {},
   "outputs": [
    {
     "data": {
      "text/plain": [
       "['scapy.ipynb', 'os,socket,struct.ipynb']"
      ]
     },
     "execution_count": 33,
     "metadata": {},
     "output_type": "execute_result"
    }
   ],
   "source": [
    "os.listdir()"
   ]
  },
  {
   "attachments": {},
   "cell_type": "markdown",
   "metadata": {},
   "source": [
    "- `getpid()` : Get current process ID"
   ]
  },
  {
   "cell_type": "code",
   "execution_count": 34,
   "metadata": {},
   "outputs": [
    {
     "data": {
      "text/plain": [
       "165307"
      ]
     },
     "execution_count": 34,
     "metadata": {},
     "output_type": "execute_result"
    }
   ],
   "source": [
    "os.getpid()"
   ]
  },
  {
   "attachments": {},
   "cell_type": "markdown",
   "metadata": {},
   "source": [
    "- `ctermid()` : Current tty ID"
   ]
  },
  {
   "cell_type": "code",
   "execution_count": 35,
   "metadata": {},
   "outputs": [
    {
     "data": {
      "text/plain": [
       "'/dev/tty'"
      ]
     },
     "execution_count": 35,
     "metadata": {},
     "output_type": "execute_result"
    }
   ],
   "source": [
    "os.ctermid()"
   ]
  },
  {
   "attachments": {},
   "cell_type": "markdown",
   "metadata": {},
   "source": [
    "- `/etc/services` 파일을 확인하면, 각 서비스가 이용 중인 포트 번호를 알 수 있다."
   ]
  },
  {
   "cell_type": "code",
   "execution_count": 36,
   "metadata": {},
   "outputs": [
    {
     "name": "stdout",
     "output_type": "stream",
     "text": [
      "# Network services, Internet style\n",
      "#\n",
      "# Updated from https://www.iana.org/assignments/service-names-port-numbers/service-names-port-numbers.xhtml .\n",
      "#\n",
      "# New ports will be added on request if they have been officially assigned\n",
      "# by IANA and used in the real-world or are needed by a debian package.\n",
      "# If you need a huge list of used numbers please install the nmap package.\n",
      "\n",
      "tcpmux\t\t1/tcp\t\t\t\t# TCP port service multiplexer\n",
      "echo\t\t7/tcp\n",
      "echo\t\t7/udp\n",
      "discard\t\t9/tcp\t\tsink null\n",
      "discard\t\t9/udp\t\tsink null\n",
      "systat\t\t11/tcp\t\tusers\n",
      "daytime\t\t13/tcp\n",
      "daytime\t\t13/udp\n",
      "netstat\t\t15/tcp\n",
      "qotd\t\t17/tcp\t\tquote\n",
      "chargen\t\t19/tcp\t\tttytst source\n",
      "chargen\t\t19/udp\t\tttytst source\n",
      "\n"
     ]
    }
   ],
   "source": [
    "import subprocess\n",
    "\n",
    "cmd = 'head -n 20 /etc/services'\n",
    "result = subprocess.run(cmd.split(' '), stdout=subprocess.PIPE)\n",
    "\n",
    "print(result.stdout.decode('utf-8'))"
   ]
  },
  {
   "attachments": {},
   "cell_type": "markdown",
   "metadata": {},
   "source": [
    "### socket 예시"
   ]
  },
  {
   "cell_type": "code",
   "execution_count": 37,
   "metadata": {},
   "outputs": [],
   "source": [
    "import socket"
   ]
  },
  {
   "attachments": {},
   "cell_type": "markdown",
   "metadata": {},
   "source": [
    "- `getservbyname()` : Get service port number by service name\n",
    "- Well-Known Ports 값으로 출력한다. (변경한 경우 반영되지 않음)"
   ]
  },
  {
   "cell_type": "code",
   "execution_count": 38,
   "metadata": {},
   "outputs": [
    {
     "data": {
      "text/plain": [
       "22"
      ]
     },
     "execution_count": 38,
     "metadata": {},
     "output_type": "execute_result"
    }
   ],
   "source": [
    "socket.getservbyname(\"ssh\", \"tcp\")"
   ]
  },
  {
   "cell_type": "code",
   "execution_count": 39,
   "metadata": {},
   "outputs": [
    {
     "data": {
      "text/plain": [
       "21"
      ]
     },
     "execution_count": 39,
     "metadata": {},
     "output_type": "execute_result"
    }
   ],
   "source": [
    "socket.getservbyname(\"ftp\", \"tcp\")"
   ]
  },
  {
   "attachments": {},
   "cell_type": "markdown",
   "metadata": {},
   "source": [
    "- `getservbyport()` : Get service name by service port number\n",
    "- `getservbyname()`의 반대 역할을 동일하게 수행한다."
   ]
  },
  {
   "cell_type": "code",
   "execution_count": 40,
   "metadata": {},
   "outputs": [
    {
     "data": {
      "text/plain": [
       "'ssh'"
      ]
     },
     "execution_count": 40,
     "metadata": {},
     "output_type": "execute_result"
    }
   ],
   "source": [
    "socket.getservbyport(22)"
   ]
  },
  {
   "cell_type": "code",
   "execution_count": 41,
   "metadata": {},
   "outputs": [
    {
     "data": {
      "text/plain": [
       "'ftp'"
      ]
     },
     "execution_count": 41,
     "metadata": {},
     "output_type": "execute_result"
    }
   ],
   "source": [
    "socket.getservbyport(21)"
   ]
  },
  {
   "attachments": {},
   "cell_type": "markdown",
   "metadata": {},
   "source": [
    "- `gethostname()` : 말 그대로 코드를 실행하는 Host 이름을 출력한다."
   ]
  },
  {
   "cell_type": "code",
   "execution_count": 42,
   "metadata": {},
   "outputs": [
    {
     "data": {
      "text/plain": [
       "'toygoon-backbox'"
      ]
     },
     "execution_count": 42,
     "metadata": {},
     "output_type": "execute_result"
    }
   ],
   "source": [
    "hostname = socket.gethostname()\n",
    "hostname"
   ]
  },
  {
   "attachments": {},
   "cell_type": "markdown",
   "metadata": {},
   "source": [
    "- `gethostbyname()` : Host 이름, 혹은 Domain으로 Host의 IPv4 주소를 출력한다."
   ]
  },
  {
   "cell_type": "code",
   "execution_count": 43,
   "metadata": {},
   "outputs": [
    {
     "data": {
      "text/plain": [
       "'127.0.1.1'"
      ]
     },
     "execution_count": 43,
     "metadata": {},
     "output_type": "execute_result"
    }
   ],
   "source": [
    "socket.gethostbyname(hostname)"
   ]
  },
  {
   "cell_type": "code",
   "execution_count": 44,
   "metadata": {},
   "outputs": [
    {
     "data": {
      "text/plain": [
       "'142.250.66.110'"
      ]
     },
     "execution_count": 44,
     "metadata": {},
     "output_type": "execute_result"
    }
   ],
   "source": [
    "socket.gethostbyname('google.com')"
   ]
  },
  {
   "attachments": {},
   "cell_type": "markdown",
   "metadata": {},
   "source": [
    "### struct 예시\n",
    "- 파이썬에서 `struct` 모듈을 사용하여 C언어의 `struct`와 유사한 방식으로 데이터를 구조화하고 이진 형식으로 변환할 수 있다.\n",
    "- `struct` 모듈은 이진 데이터와 파이썬 값 간의 변환을 지원한다.\n",
    "- `struct.pack()` 함수는 파이썬 값들을 주어진 형식에 맞게 패킹하여 이진 데이터로 변환한다. 패킹된 데이터는 이진 형식으로 저장되거나 전송될 수 있다.\n",
    "- 예를 들어, C언어의 `struct`를 사용하여 Big-Endian 형식으로 2 byte Integer를 Packing하는 경우, 파이썬에서 `struct.pack(\">h\", 1)`과 같이 사용할 수 있다. 이렇게 하면 Integer 값 1이 Big-Endian Byte Order으로 2 byte의 Binary Data로 변환된다.\n",
    "- 마찬가지로, `struct.unpack()` 함수를 사용하여 Binary Data를 Unpacking하여 원래의 파이썬 값으로 변환할 수도 있다.\n",
    "- 파이썬의 `struct` 모듈은 Binary Data 처리와 관련된 다양한 작업에 유용하며, Networking, Binary IO, Implementing Protocol 등 다양한 상황에서 활용될 수 있다."
   ]
  },
  {
   "cell_type": "code",
   "execution_count": 45,
   "metadata": {},
   "outputs": [],
   "source": [
    "import struct"
   ]
  },
  {
   "attachments": {},
   "cell_type": "markdown",
   "metadata": {},
   "source": [
    "- `>`는 Big-Endian을 의미한다.\n",
    "- `h`는 C언어에서 `short` 타입의 2 byte 형식을 의미한다.\n",
    "- 아래 코드는 1이라는 정수 값을 형태에 맞춰서 만들어 달라는 것을 의미한다."
   ]
  },
  {
   "cell_type": "code",
   "execution_count": 46,
   "metadata": {},
   "outputs": [
    {
     "data": {
      "text/plain": [
       "b'\\x00\\x01'"
      ]
     },
     "execution_count": 46,
     "metadata": {},
     "output_type": "execute_result"
    }
   ],
   "source": [
    "struct.pack('>h', 1)"
   ]
  },
  {
   "attachments": {},
   "cell_type": "markdown",
   "metadata": {},
   "source": [
    "- 반대로, `<`는 Little-Endian을 의미한다.\n",
    "- `4h`는 `short` 타입을 가지는 2 byte 형식을 4개 가진다는 의미이다.\n",
    "- 즉, (2, 3, 4, 5) 값을 갖는 2 byte 형식의 `short` 정수를 Little-Endian 순서로 Packing 한다."
   ]
  },
  {
   "cell_type": "code",
   "execution_count": 47,
   "metadata": {},
   "outputs": [
    {
     "data": {
      "text/plain": [
       "b'\\x02\\x00\\x03\\x00\\x04\\x00\\x05\\x00'"
      ]
     },
     "execution_count": 47,
     "metadata": {},
     "output_type": "execute_result"
    }
   ],
   "source": [
    "struct.pack(\"<4h\", 2, 3, 4, 5)"
   ]
  },
  {
   "attachments": {},
   "cell_type": "markdown",
   "metadata": {},
   "source": [
    "- `!`도 Big-Endian을 의미하지만, Network에서 주로 사용되는 Byte Order는 `>` 대신 `!`를 이용하기도 한다.\n",
    "- 주로 Packet을 보낼 때는 Packing해서 보내고, 받을 때는 Unpacking 한다."
   ]
  },
  {
   "cell_type": "code",
   "execution_count": 48,
   "metadata": {},
   "outputs": [
    {
     "data": {
      "text/plain": [
       "b'\\x00\\n\\x00\\x1e'"
      ]
     },
     "execution_count": 48,
     "metadata": {},
     "output_type": "execute_result"
    }
   ],
   "source": [
    "pack = struct.pack('!2h', 10, 30)\n",
    "pack"
   ]
  },
  {
   "cell_type": "code",
   "execution_count": 49,
   "metadata": {},
   "outputs": [
    {
     "data": {
      "text/plain": [
       "(10, 30)"
      ]
     },
     "execution_count": 49,
     "metadata": {},
     "output_type": "execute_result"
    }
   ],
   "source": [
    "struct.unpack('!2h', pack)"
   ]
  },
  {
   "attachments": {},
   "cell_type": "markdown",
   "metadata": {},
   "source": [
    "### socket과 struct의 예시\n",
    "- IPv4의 주소는 8 bit가 4개, 즉 32 bit이다.\n",
    "- 문자열로 되어있는 IPv4 주소를 숫자로 바꿀 수 있다.\n",
    "- `aton`은 ASCII to Network의 약자로, IPv4의 주소를 나타내는 문자열을 Network Byte Order로 변환하는 역할을 한다."
   ]
  },
  {
   "cell_type": "code",
   "execution_count": 50,
   "metadata": {},
   "outputs": [
    {
     "data": {
      "text/plain": [
       "b'\\x7f\\x00\\x00\\x01'"
      ]
     },
     "execution_count": 50,
     "metadata": {},
     "output_type": "execute_result"
    }
   ],
   "source": [
    "loopback = socket.inet_aton('127.0.0.1')\n",
    "loopback"
   ]
  },
  {
   "attachments": {},
   "cell_type": "markdown",
   "metadata": {},
   "source": [
    "- `i`는 integer를 의미한다."
   ]
  },
  {
   "cell_type": "code",
   "execution_count": 51,
   "metadata": {},
   "outputs": [
    {
     "data": {
      "text/plain": [
       "(2130706433,)"
      ]
     },
     "execution_count": 51,
     "metadata": {},
     "output_type": "execute_result"
    }
   ],
   "source": [
    "unpacked = struct.unpack('!i', loopback)\n",
    "unpacked"
   ]
  },
  {
   "attachments": {},
   "cell_type": "markdown",
   "metadata": {},
   "source": [
    "- `ntoa`는 Network to ASCII로, `aton`의 반대 역할을 수행한다."
   ]
  },
  {
   "cell_type": "code",
   "execution_count": 52,
   "metadata": {},
   "outputs": [
    {
     "data": {
      "text/plain": [
       "'127.0.0.1'"
      ]
     },
     "execution_count": 52,
     "metadata": {},
     "output_type": "execute_result"
    }
   ],
   "source": [
    "socket.inet_ntoa(struct.pack('!i', unpacked[0]))"
   ]
  },
  {
   "attachments": {},
   "cell_type": "markdown",
   "metadata": {},
   "source": [
    "- 아래는 `0x00FF` 숫자를 `htons`라는 Host to Network Short (Network Byte Order) 역할을 수행하는 함에 넣어 16진수를 Network Byte Order로 바꾸고, 이를 역으로 변환하는 예제이다."
   ]
  },
  {
   "cell_type": "code",
   "execution_count": 56,
   "metadata": {},
   "outputs": [
    {
     "name": "stdout",
     "output_type": "stream",
     "text": [
      "255 65280 255\n"
     ]
    }
   ],
   "source": [
    "y = 0x00FF\n",
    "htons = socket.htons(y)\n",
    "ntohs = socket.ntohs(htons)\n",
    "\n",
    "print(y, htons, ntohs)"
   ]
  }
 ],
 "metadata": {
  "kernelspec": {
   "display_name": "Python 3",
   "language": "python",
   "name": "python3"
  },
  "language_info": {
   "codemirror_mode": {
    "name": "ipython",
    "version": 3
   },
   "file_extension": ".py",
   "mimetype": "text/x-python",
   "name": "python",
   "nbconvert_exporter": "python",
   "pygments_lexer": "ipython3",
   "version": "3.11.3"
  },
  "orig_nbformat": 4
 },
 "nbformat": 4,
 "nbformat_minor": 2
}
