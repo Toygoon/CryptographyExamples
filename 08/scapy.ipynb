{
 "cells": [
  {
   "cell_type": "code",
   "execution_count": 2,
   "metadata": {},
   "outputs": [],
   "source": [
    "from scapy.all import *"
   ]
  },
  {
   "attachments": {},
   "cell_type": "markdown",
   "metadata": {},
   "source": [
    "## Scapy Examples\n",
    "\n",
    "<details>\n",
    "<summary>Table of Contents</summary>\n",
    "\n",
    "- [UDP 예시](#UDP-예시)\n",
    "- [TCP 예시](#TCP-예시)\n",
    "- [TCP Control Bits](#TCP-Control-Bits)\n",
    "- [IP 예시](#IP-예시)\n",
    "- [ICMP 예시](#ICMP-예시)\n",
    "- [여러 Protocol의 Header 결합](#여러-Protocol의-Header-결합)\n",
    "- [IP 예시](#IP-예시)\n",
    "- [ICMP 예시](#ICMP-예시)\n",
    "- [여러 Protocol의 Header 결합](#여러-Protocol의-Header-결합)\n",
    "- [ARP 예시](#ARP-예시)\n",
    "- [Ether 예시](#Ether-예시)\n",
    "\n",
    "\n",
    "</details>\n",
    "\n",
    "---"
   ]
  },
  {
   "attachments": {},
   "cell_type": "markdown",
   "metadata": {},
   "source": [
    "### UDP 예시\n",
    "- `UDP()` 함수를 통해 UDP Protocol의 Datagram을 생성할 수 있다.\n",
    "- 생성된 Datagram은 객체의 `show()` 함수를 이용하면 정보를 출력한다."
   ]
  },
  {
   "cell_type": "code",
   "execution_count": 3,
   "metadata": {},
   "outputs": [
    {
     "name": "stdout",
     "output_type": "stream",
     "text": [
      "###[ UDP ]### \n",
      "  sport     = domain\n",
      "  dport     = domain\n",
      "  len       = None\n",
      "  chksum    = None\n",
      "\n"
     ]
    }
   ],
   "source": [
    "# UDP Header 생성\n",
    "datagram = UDP()\n",
    "\n",
    "# UDP Header 생성 결과 출력\n",
    "datagram.show()"
   ]
  },
  {
   "attachments": {},
   "cell_type": "markdown",
   "metadata": {},
   "source": [
    "- Datagram의 정보는 Python 내장 함수인 `del()` 함수를 통해 해당 요소의 초기화가 가능하다.\n",
    "- sport는 Source Port, dport는 Destination Port의 줄임말이다."
   ]
  },
  {
   "cell_type": "code",
   "execution_count": 4,
   "metadata": {},
   "outputs": [
    {
     "name": "stdout",
     "output_type": "stream",
     "text": [
      "###[ UDP ]### \n",
      "  sport     = 12345\n",
      "  dport     = 54321\n",
      "  len       = None\n",
      "  chksum    = None\n",
      "\n",
      "###[ UDP ]### \n",
      "  sport     = domain\n",
      "  dport     = domain\n",
      "  len       = None\n",
      "  chksum    = None\n",
      "\n"
     ]
    }
   ],
   "source": [
    "# sport, dport 설정\n",
    "datagram.sport = 12345\n",
    "datagram.dport = 54321\n",
    "# 설정된 속성 확인\n",
    "datagram.show()\n",
    "\n",
    "# sport, dport 삭제\n",
    "del (datagram.sport, datagram.dport)\n",
    "# 삭제 이후 정보 확인\n",
    "datagram.show()"
   ]
  },
  {
   "attachments": {},
   "cell_type": "markdown",
   "metadata": {},
   "source": [
    "### TCP 예시\n",
    "- `TCP()` 함수를 통해 TCP Protocol의 Segment를 생성할 수 있다.\n",
    "- TCP Protocol은 TCP의 특성상 UDP보다 더 많은 정보를 포함하고 있다.\n",
    "- `TCP()` 생성자를 호출할 때, 각종 Parameter를 지정하면 Packet의 구조를 변경할 수 있다. (다른 Protocol도 동일)"
   ]
  },
  {
   "cell_type": "code",
   "execution_count": 5,
   "metadata": {},
   "outputs": [
    {
     "name": "stdout",
     "output_type": "stream",
     "text": [
      "###[ TCP ]### \n",
      "  sport     = ftp_data\n",
      "  dport     = http\n",
      "  seq       = 0\n",
      "  ack       = 0\n",
      "  dataofs   = None\n",
      "  reserved  = 0\n",
      "  flags     = S\n",
      "  window    = 8192\n",
      "  chksum    = None\n",
      "  urgptr    = 0\n",
      "  options   = []\n",
      "\n"
     ]
    }
   ],
   "source": [
    "# TCP Header 생성\n",
    "segment = TCP()\n",
    "\n",
    "# TCP의 정보는 UDP보다 더 많음\n",
    "segment.show()"
   ]
  },
  {
   "attachments": {},
   "cell_type": "markdown",
   "metadata": {},
   "source": [
    "- 아래는 `TCP()` 생성자의 Parameter에 값을 할당해서 세부 정보를 변경한 예시이다."
   ]
  },
  {
   "cell_type": "code",
   "execution_count": 6,
   "metadata": {},
   "outputs": [
    {
     "name": "stdout",
     "output_type": "stream",
     "text": [
      "###[ TCP ]### \n",
      "  sport     = 12345\n",
      "  dport     = ssh\n",
      "  seq       = 0\n",
      "  ack       = 0\n",
      "  dataofs   = 5\n",
      "  reserved  = 0\n",
      "  flags     = S\n",
      "  window    = 2918\n",
      "  chksum    = None\n",
      "  urgptr    = 0\n",
      "  options   = []\n",
      "\n"
     ]
    }
   ],
   "source": [
    "# Parameter를 전달해서 각종 정보를 설정할 수 있음\n",
    "# Parameter에 설정되는 것은 TCP Packet 구조의 내용을 변형하는 것\n",
    "segment = TCP(sport=12345, dport=22, dataofs=5, window=2918)\n",
    "\n",
    "segment.show()"
   ]
  },
  {
   "attachments": {},
   "cell_type": "markdown",
   "metadata": {},
   "source": [
    "### TCP Control Bits\n",
    "\n",
    "- TCP Protocol의 Header에는 아래와 같은 총 6 bit의 Control Bits가 포함되어 있다.\n",
    "\n",
    "| 플래그 | 값 | 설명                |\n",
    "|--------|----|---------------------|\n",
    "| URG    | 32 | 긴급 데이터를 나타냄  |\n",
    "| ACK    | 16 | 확인 응답을 나타냄    |\n",
    "| PSH    | 8  | 버퍼를 비우라는 신호 |\n",
    "| RST    | 4  | 연결 재설정을 나타냄 |\n",
    "| SYN    | 2  | 연결 설정을 나타냄   |\n",
    "| FIN    | 1  | 연결 종료를 나타냄   |\n",
    "\n",
    "- 각 Flag의 상태는 앞에서부터 채워진다.\n",
    "- 위의 표에서 해당 Flag를 활성화 한다면 1, 그렇지 않다면 0을 설정하여 연속된 숫자를 만들 수 있다.\n",
    "- 아래는 모든 비트가 0인 예시이다.\n",
    "\n",
    "| Bit | 5   | 4   | 3   | 2   | 1   | 0   |\n",
    "|-----|-----|-----|-----|-----|-----|-----|\n",
    "| Value | 0   | 0   | 0   | 0   | 0   | 0   |\n",
    "| Flag  | URG | ACK | PSH | RST | SYN | FIN |\n",
    "\n",
    "- 만약 `ACK`와 `SYN` bit가 설정된 Control Bits를 만들고 싶다면, 아래와 같은 구성이 된다.\n",
    "- 이는 10진수로 18이며, 16진수로는 0x12로 계산할 수 있다.\n",
    "\n",
    "| Bit | 5   | 4   | 3   | 2   | 1   | 0   |\n",
    "|-----|-----|-----|-----|-----|-----|-----|\n",
    "| Value | 0   | 1   | 0   | 0   | 1   | 0   |\n",
    "| Flag  | URG | ACK | PSH | RST | SYN | FIN |"
   ]
  },
  {
   "cell_type": "code",
   "execution_count": 7,
   "metadata": {},
   "outputs": [
    {
     "name": "stdout",
     "output_type": "stream",
     "text": [
      "###[ TCP ]### \n",
      "  sport     = ftp_data\n",
      "  dport     = http\n",
      "  seq       = 0\n",
      "  ack       = 0\n",
      "  dataofs   = None\n",
      "  reserved  = 0\n",
      "  flags     = SA\n",
      "  window    = 8192\n",
      "  chksum    = None\n",
      "  urgptr    = 0\n",
      "  options   = []\n",
      "\n"
     ]
    }
   ],
   "source": [
    "# TCP 패킷의 Control Bits는 각 상태를 나타내는 6개의 비트를\n",
    "# 순서대로 변환하여 flags의 Parameter로 전달할 수 있다.\n",
    "segment = TCP(flags=0x12)\n",
    "\n",
    "segment.show()"
   ]
  },
  {
   "attachments": {},
   "cell_type": "markdown",
   "metadata": {},
   "source": [
    "- Python에서는 가장 작은 단위가 1 byte이다.\n",
    "- Offset에 5라는 값을 넣고싶은 경우, Offset을 Shift 연산하여 계산할 수 있다.\n",
    "- Reserved는 IP Header에서 3 bit의 크기 값으로 미래 확장을 위해 예약된 Field이다.\n",
    "- Reserved가 현재는 사용되지 않고 있어서, 0으로 설정된다."
   ]
  },
  {
   "cell_type": "code",
   "execution_count": 8,
   "metadata": {},
   "outputs": [
    {
     "data": {
      "text/plain": [
       "80"
      ]
     },
     "execution_count": 8,
     "metadata": {},
     "output_type": "execute_result"
    }
   ],
   "source": [
    "# Offset 값 설정\n",
    "offset = 5\n",
    "reserved = 0\n",
    "\n",
    "offset_reserved = offset << 4 + reserved\n",
    "offset_reserved"
   ]
  },
  {
   "attachments": {},
   "cell_type": "markdown",
   "metadata": {},
   "source": [
    "- 아래는 Shift 연산을 통해 Control Bits를 만드는 예시이다.\n",
    "- 각 자리를 맞는 Bit에 Shift 연산하여 Flags 값을 계산할 수 있다.\n",
    "\n",
    "| Bit   | 5   | 4   | 3   | 2   | 1   | 0   |\n",
    "| ----- | --- | --- | --- | --- | --- | --- |\n",
    "| Value | 1   | 1   | 1   | 1   | 1   | 1   |\n",
    "| Flag  | URG | ACK | PSH | RST | SYN | FIN |\n"
   ]
  },
  {
   "cell_type": "code",
   "execution_count": 9,
   "metadata": {},
   "outputs": [
    {
     "data": {
      "text/plain": [
       "'0b111111'"
      ]
     },
     "execution_count": 9,
     "metadata": {},
     "output_type": "execute_result"
    }
   ],
   "source": [
    "urg = ack = psh = rst = syn = fin = flags = 1\n",
    "\n",
    "# Shift 연산을 통해 비트만큼 Shift하여 각 자리를 지정해줄 수 있다.\n",
    "flags = (urg << 5) + (ack << 4) + (psh << 3) + (rst << 2) + (syn << 1) + fin\n",
    "\n",
    "# Flags는 Binary 값이다.\n",
    "bin(flags)"
   ]
  },
  {
   "attachments": {},
   "cell_type": "markdown",
   "metadata": {},
   "source": [
    "### IP 예시\n",
    "- `IP()` 함수를 통해 IP의 Packet을 생성할 수 있다.\n",
    "- `len` : IP header와 TCP Header와 TCP Payload 등의 길이가 나타난다.\n",
    "- `frag (fragmentation)` : 해당 Header가 MTU로 쪼개진 Header인지에 대한 여부이다.\n",
    "- `proto (protocol)` : Data에 담겨있는 Packet이 어떤 Protocol을 사용하는지에 대한 정보이다.\n",
    "- `ihl (IP Header Length)` : IP Header의 길이를 나타낸다. 32 bit word 단위로 표현되며, 그 개수를 나타낸다.\n",
    "- `id` : `frag`의 Packet 식별자를 나타낸다. 분할된 Packet의 경우, 원래 Packet을 재조립하기 위해 사용한다.\n",
    "- `proto` : IP Packet에 포함된 Data의 Protocol을 나타낸다. 값이 6이면, TCP Protocol을 사용한다."
   ]
  },
  {
   "cell_type": "code",
   "execution_count": 10,
   "metadata": {},
   "outputs": [
    {
     "name": "stdout",
     "output_type": "stream",
     "text": [
      "###[ IP ]### \n",
      "  version   = 4\n",
      "  ihl       = None\n",
      "  tos       = 0x0\n",
      "  len       = None\n",
      "  id        = 1\n",
      "  flags     = \n",
      "  frag      = 0\n",
      "  ttl       = 64\n",
      "  proto     = hopopt\n",
      "  chksum    = None\n",
      "  src       = 127.0.0.1\n",
      "  dst       = 127.0.0.1\n",
      "  \\options   \\\n",
      "\n"
     ]
    }
   ],
   "source": [
    "# IP Header 생성\n",
    "packet = IP()\n",
    "\n",
    "packet.show()"
   ]
  },
  {
   "attachments": {},
   "cell_type": "markdown",
   "metadata": {},
   "source": [
    "- IP Packet도 마찬가지로, 아래의 Parameter를 지정하여 나타낼 수 있다."
   ]
  },
  {
   "cell_type": "code",
   "execution_count": 11,
   "metadata": {},
   "outputs": [
    {
     "name": "stdout",
     "output_type": "stream",
     "text": [
      "###[ IP ]### \n",
      "  version   = 4\n",
      "  ihl       = 20\n",
      "  tos       = 0x0\n",
      "  len       = None\n",
      "  id        = 2222\n",
      "  flags     = \n",
      "  frag      = 0\n",
      "  ttl       = 64\n",
      "  proto     = tcp\n",
      "  chksum    = None\n",
      "  src       = 127.0.0.1\n",
      "  dst       = 127.0.0.1\n",
      "  \\options   \\\n",
      "\n"
     ]
    }
   ],
   "source": [
    "packet = IP(ihl=20, id=2222, proto=6)\n",
    "\n",
    "packet.show()"
   ]
  },
  {
   "attachments": {},
   "cell_type": "markdown",
   "metadata": {},
   "source": [
    "### ICMP 예시\n",
    "\n",
    "- ICMP는 Network 상에서 오류를 보고하거나, Echo 요청 및 응답(Ping)에 사용되거나, 경로 MTU 발견 등으로 사용되는 Protocol이다.\n",
    "- 즉, 각종 정보를 전달하기 위한 목적을 가진다.\n",
    "- `ICMP()` 생성자를 통해 ICMP Packet을 생성할 수 있다.\n",
    "- `show()` 함수를 통해 나타난 결과에서 `type`이 `echo-request`이라면 연결이 잘 되어 있는 경우이다."
   ]
  },
  {
   "cell_type": "code",
   "execution_count": 12,
   "metadata": {},
   "outputs": [
    {
     "name": "stdout",
     "output_type": "stream",
     "text": [
      "###[ ICMP ]### \n",
      "  type      = echo-request\n",
      "  code      = 0\n",
      "  chksum    = None\n",
      "  id        = 0x0\n",
      "  seq       = 0x0\n",
      "\n"
     ]
    }
   ],
   "source": [
    "# ICMP Packet 생성\n",
    "packet = ICMP()\n",
    "\n",
    "packet.show()"
   ]
  },
  {
   "attachments": {},
   "cell_type": "markdown",
   "metadata": {},
   "source": [
    "### 여러 Protocol의 Header 결합\n",
    "- 연산자 `/`를 이용하여 여러 Protocol의 생성자를 호출하면, 해당 Protocol을 가지는 하나의 Packet을 생성할 수 있다.\n",
    "- `Raw()` 객체의 생성자를 이용하여 `load` Parameter를 전달하면, 메시지를 전달할 수 있다."
   ]
  },
  {
   "cell_type": "code",
   "execution_count": 13,
   "metadata": {},
   "outputs": [
    {
     "name": "stdout",
     "output_type": "stream",
     "text": [
      "###[ IP ]### \n",
      "  version   = 4\n",
      "  ihl       = None\n",
      "  tos       = 0x0\n",
      "  len       = None\n",
      "  id        = 1\n",
      "  flags     = \n",
      "  frag      = 0\n",
      "  ttl       = 64\n",
      "  proto     = icmp\n",
      "  chksum    = None\n",
      "  src       = xxx.xxx.xxx.xxx\n",
      "  dst       = 10.0.0.1\n",
      "  \\options   \\\n",
      "###[ ICMP ]### \n",
      "     type      = echo-request\n",
      "     code      = 0\n",
      "     chksum    = None\n",
      "     id        = 0x0\n",
      "     seq       = 0x0\n",
      "###[ Raw ]### \n",
      "        load      = 'test'\n",
      "\n"
     ]
    }
   ],
   "source": [
    "DESTINATION_IP = '10.0.0.1'\n",
    "RAW_MESSAGE = 'test'\n",
    "\n",
    "packet = IP(dst=DESTINATION_IP) / ICMP() / Raw(load=RAW_MESSAGE)\n",
    "\n",
    "packet.show()"
   ]
  },
  {
   "attachments": {},
   "cell_type": "markdown",
   "metadata": {},
   "source": [
    "- 위에서 생성된 Packet은 `sr1()` 메서드를 사용하여 실제로 전달할 수 있다."
   ]
  },
  {
   "cell_type": "code",
   "execution_count": null,
   "metadata": {},
   "outputs": [],
   "source": [
    "sr1(packet)\n",
    "\n",
    "# 마찬가지로, UDP를 이용할 수도 있다.\n",
    "packet = IP() / UDP() / Raw(load=RAW_MESSAGE)\n",
    "sr1(packet)"
   ]
  },
  {
   "attachments": {},
   "cell_type": "markdown",
   "metadata": {},
   "source": [
    "### ARP 예시\n",
    "- ARP Protocol은 IP 주소와 MAC 주소간의 Mapping을 수행하는 Protocol이다.\n",
    "- `ARP()` 생성자를 호출하여 ARP Packet을 만들 수 있다."
   ]
  },
  {
   "cell_type": "code",
   "execution_count": 16,
   "metadata": {},
   "outputs": [
    {
     "name": "stdout",
     "output_type": "stream",
     "text": [
      "###[ ARP ]### \n",
      "  hwtype    = 0x1\n",
      "  ptype     = IPv4\n",
      "  hwlen     = None\n",
      "  plen      = None\n",
      "  op        = who-has\n",
      "  hwsrc     = xx:xx:xx:xx:xx:xx\n",
      "  psrc      = xxx.xxx.xxx.xxx\n",
      "  hwdst     = 00:00:00:00:00:00\n",
      "  pdst      = 0.0.0.0\n",
      "\n"
     ]
    }
   ],
   "source": [
    "# ARP Packet 생성\n",
    "packet = ARP()\n",
    "\n",
    "packet.show()"
   ]
  },
  {
   "attachments": {},
   "cell_type": "markdown",
   "metadata": {},
   "source": [
    "- OSI Layer 중, L2 계층에서는 MAC 주소로 Data를 주고 받는다.\n",
    "- `ARP()` 객체를 이용하여 Packet을 만들면 이를 변형할 수 있다.\n",
    "- 만약 알고 싶은 MAC 주소가 있고, 해당 IP 주소를 가지고 있다면, 객체를 생성하여 네트워크에 전송한 후 MAC 주소를 알 수 있다."
   ]
  },
  {
   "cell_type": "code",
   "execution_count": null,
   "metadata": {},
   "outputs": [],
   "source": [
    "packet = ARP(pdst=DESTINATION_IP)\n",
    "\n",
    "sr1(packet)"
   ]
  },
  {
   "attachments": {},
   "cell_type": "markdown",
   "metadata": {},
   "source": [
    "### Ether 예시\n",
    "- L2 계층에서는 주로 Ethernet Protocol을 사용한다.\n",
    "- `Ether()` 생성자를 통해 Frame을 생성할 수 있다."
   ]
  },
  {
   "cell_type": "code",
   "execution_count": 20,
   "metadata": {},
   "outputs": [
    {
     "name": "stdout",
     "output_type": "stream",
     "text": [
      "###[ Ethernet ]### \n",
      "  dst       = ff:ff:ff:ff:ff:ff\n",
      "  src       = xx:xx:xx:xx:xx:xx\n",
      "  type      = 0x9000\n",
      "\n"
     ]
    }
   ],
   "source": [
    "# Ether Frame 생성\n",
    "frame = Ether()\n",
    "\n",
    "frame.show()"
   ]
  },
  {
   "attachments": {},
   "cell_type": "markdown",
   "metadata": {},
   "source": [
    "- 아래는 전체를 만든 예시이다.\n",
    "- 이러한 경우, `show()` 함수는 전체 계층을 확인할 수 있게 된다."
   ]
  },
  {
   "cell_type": "code",
   "execution_count": 21,
   "metadata": {},
   "outputs": [
    {
     "name": "stdout",
     "output_type": "stream",
     "text": [
      "###[ Ethernet ]### \n",
      "  dst       = ff:ff:ff:ff:ff:ff\n",
      "  src       = 00:00:00:00:00:00\n",
      "  type      = IPv4\n",
      "###[ IP ]### \n",
      "     version   = 4\n",
      "     ihl       = None\n",
      "     tos       = 0x0\n",
      "     len       = None\n",
      "     id        = 1\n",
      "     flags     = \n",
      "     frag      = 0\n",
      "     ttl       = 64\n",
      "     proto     = udp\n",
      "     chksum    = None\n",
      "     src       = 127.0.0.1\n",
      "     dst       = 127.0.0.1\n",
      "     \\options   \\\n",
      "###[ UDP ]### \n",
      "        sport     = domain\n",
      "        dport     = domain\n",
      "        len       = None\n",
      "        chksum    = None\n",
      "###[ Raw ]### \n",
      "           load      = 'test'\n",
      "\n"
     ]
    }
   ],
   "source": [
    "frame = Ether() / IP() / UDP() / Raw(load=RAW_MESSAGE)\n",
    "\n",
    "frame.show()"
   ]
  },
  {
   "attachments": {},
   "cell_type": "markdown",
   "metadata": {},
   "source": [
    "- 아래의 예제는 `Ether()` 의 MAC 주소를 Broadcast 하는 코드이다.\n",
    "- 하지만, 받은 Packet은 많지만 적합한 MAC 주소가 없기 때문에 응답이 오지 않고 Network의 Node는 이를 무시한다."
   ]
  },
  {
   "cell_type": "code",
   "execution_count": null,
   "metadata": {},
   "outputs": [],
   "source": [
    "frame = Ether() / ARP()\n",
    "\n",
    "sr1(frame)"
   ]
  }
 ],
 "metadata": {
  "kernelspec": {
   "display_name": "Python 3",
   "language": "python",
   "name": "python3"
  },
  "language_info": {
   "codemirror_mode": {
    "name": "ipython",
    "version": 3
   },
   "file_extension": ".py",
   "mimetype": "text/x-python",
   "name": "python",
   "nbconvert_exporter": "python",
   "pygments_lexer": "ipython3",
   "version": "3.11.3"
  },
  "orig_nbformat": 4
 },
 "nbformat": 4,
 "nbformat_minor": 2
}
