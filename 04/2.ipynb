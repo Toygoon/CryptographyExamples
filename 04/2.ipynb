{
 "cells": [
  {
   "cell_type": "code",
   "execution_count": 823,
   "metadata": {},
   "outputs": [],
   "source": [
    "import hashlib\n",
    "import base58check\n",
    "from Crypto.Hash import RIPEMD160\n"
   ]
  },
  {
   "cell_type": "code",
   "execution_count": 824,
   "metadata": {},
   "outputs": [],
   "source": [
    "# Alice는 타원 곡선 Ep(a, b)를 선택한다. 여기서 p는 소수이다.\n",
    "p = 0xFFFFFFFFFFFFFFFFFFFFFFFFFFFFFFFFFFFFFFFFFFFFFFFFFFFFFFFEFFFFFC2F\n",
    "# Alice는 곡선 상의 한 점 e1(…, …) 를 선택한다. <- generator\n",
    "e1 = (0x79BE667EF9DCBBAC55A06295CE870B07029BFCDB2DCE28D959F2815B16F81798,\n",
    "      0x483ADA7726A3C4655DA4FBFC0E1108A8FD17B448A68554199C47D08FFB10D4B8)\n",
    "# Alice는 계산에 사용할 다른 소수 q를 선택한다.\n",
    "q = 0xFFFFFFFFFFFFFFFFFFFFFFFFFFFFFFFEBAAEDCE6AF48A03BBFD25E8CD0364141\n"
   ]
  },
  {
   "cell_type": "code",
   "execution_count": 825,
   "metadata": {},
   "outputs": [],
   "source": [
    "def extended_euclidian(n, b):\n",
    "    \"\"\"\n",
    "    Extended Euclidian 알고리즘\n",
    "    곱셈에 대한 역원을 구하기 위해 사용함\n",
    "\n",
    "    Args:\n",
    "        n (Any): gcd(n, b)에서의 n\n",
    "        b (Any): gcd(n, b)에서의 b\n",
    "\n",
    "    Returns:\n",
    "        Any: 곱셈에 대한 역원\n",
    "    \"\"\"\n",
    "\n",
    "    # r1 <- n; r2 <- b; t1 <- 0; t2 <- 1;\n",
    "    r1, r2, t1, t2 = n, b % n, 0, 1\n",
    "\n",
    "    while r2 > 0:\n",
    "        # q <- r1 / r2;\n",
    "        q = r1 // r2\n",
    "\n",
    "        # r <- r1 - q * r2;\n",
    "        r = r1 - q * r2\n",
    "        # r1 <- r2; r2 <- r;\n",
    "        r1, r2 = r2, r\n",
    "        # t <- t1 + q * t2;\n",
    "        t = t1 - q * t2\n",
    "        # t1 <- t2; t2 <- t;\n",
    "        t1, t2 = t2, t\n",
    "\n",
    "    return t1 % n\n"
   ]
  },
  {
   "cell_type": "code",
   "execution_count": 826,
   "metadata": {},
   "outputs": [],
   "source": [
    "def add(a: tuple, b: tuple):\n",
    "    \"\"\"\n",
    "    타원 곡선 상의 덧셈 연산\n",
    "\n",
    "    Args:\n",
    "        p (tuple): 타원 곡선 상의 두 점 중 P\n",
    "        q (tuple): 타원 곡선 상의 두 점 중 Q\n",
    "\n",
    "    Returns:\n",
    "        tuple: 타원 곡선 상의 덧셈 결과\n",
    "    \"\"\"\n",
    "\n",
    "    tmp = None\n",
    "\n",
    "    if a == b:\n",
    "        # b의 경우: λ = (3x1^2 + a)/(2y1)\n",
    "        tmp = ((3 * a[0] * a[0]) * extended_euclidian(p, 2 * b[1])) % p\n",
    "    else:\n",
    "        # a의 경우, P와 Q를 지나는 직선의 방정식\n",
    "        tmp = ((b[1] - a[1]) * extended_euclidian(p, b[0] - a[0])) % p\n",
    "\n",
    "    x = (tmp ** 2 - a[0] - b[0]) % p\n",
    "    y = (tmp * (a[0] - x) - a[1]) % p\n",
    "\n",
    "    return x, y\n"
   ]
  },
  {
   "cell_type": "code",
   "execution_count": 827,
   "metadata": {},
   "outputs": [],
   "source": [
    "def double_and_add(x: int, g: tuple):\n",
    "    \"\"\"\n",
    "    Double-and-Add 알고리즘\n",
    "    공개키를 만들기 위해 G를 x번 더하는 연산이 필요\n",
    "    개인키가 x라고 하면 공개 키는 x * G의 결과로 생성됨\n",
    "\n",
    "    Args:\n",
    "        x (int): 개인키 (256 bit)\n",
    "        g (tuple): 타원 곡선 상의 고정된 점 (공개)\n",
    "\n",
    "    Returns:\n",
    "        tuple: x * g의 결과 값\n",
    "    \"\"\"\n",
    "\n",
    "    binary = bin(x)[3:]\n",
    "    result = g[0], g[1]\n",
    "\n",
    "    # left-to-right로 k의 비트를 조사\n",
    "    for i in range(len(binary)):\n",
    "        # Double만 적용\n",
    "        result = add(result, result)\n",
    "\n",
    "        if binary[i] == '1':\n",
    "            # Double(2배 연산)을 적용한 후 Add(G를 더함)\n",
    "            result = add(result, g)\n",
    "\n",
    "    return result\n"
   ]
  },
  {
   "cell_type": "code",
   "execution_count": 828,
   "metadata": {},
   "outputs": [],
   "source": [
    "def generate_public_key(d: int):\n",
    "    \"\"\"\n",
    "    개인키를 통해 공개키를 생성\n",
    "\n",
    "    Args:\n",
    "        d (int): 개인키\n",
    "\n",
    "    Returns:\n",
    "        tuple: e1을 key 만큼 곱한 공개키\n",
    "    \"\"\"\n",
    "\n",
    "    return double_and_add(d, e1)\n"
   ]
  },
  {
   "cell_type": "code",
   "execution_count": 830,
   "metadata": {},
   "outputs": [],
   "source": [
    "def generate_addr(private_key: int):\n",
    "    \"\"\"\n",
    "    압축 공개키를 이용하여 Public Key Hash를 생성하고, \n",
    "    이를 이용하여 비트코인 주소를 출력\n",
    "\n",
    "    Args:\n",
    "        private_key (int): 개인키\n",
    "\n",
    "    Returns:\n",
    "        hash, address: 공개키의 Hash 값과, 비트코인 주소를 반환\n",
    "    \"\"\"\n",
    "    \n",
    "    # 1. Take the corresponding public key generated with it\n",
    "    x, y = generate_public_key(private_key)\n",
    "\n",
    "    # (33 bytes, 1 byte 0x02 (y-coord is even), and 32 bytes corresponding to X coordinate)\n",
    "    hash = f'{\"03\" if y % 2 else \"02\"}{format(x, \"x\")}'\n",
    "\n",
    "    # 2. Perform SHA-256 hashing on the public key\n",
    "    hash = hashlib.sha256(bytes.fromhex(hash)).hexdigest()\n",
    "    \n",
    "    # 3. Perform RIPEMD-160 hashing on the result of SHA-256\n",
    "    r = RIPEMD160.new()\n",
    "    r.update(bytes.fromhex(hash))\n",
    "    \n",
    "    # 4. Add version byte in front of RIPEMD-160 hash (0x00 for Main Network)\n",
    "    hash = f'00{r.hexdigest()}'\n",
    "    chk = hash\n",
    "    \n",
    "    # 5. Perform SHA-256 hash on the extended RIPEMD-160 result\n",
    "    # 6. Perform SHA-256 hash on the result of the previous SHA-256 hash\n",
    "    for _ in range(2):\n",
    "        chk = hashlib.sha256(bytes.fromhex(chk)).hexdigest()\n",
    "        \n",
    "    # 7. Take the first 4 bytes of the second SHA-256 hash. This is the address checksum\n",
    "    # 8. Add the 4 checksum bytes from stage 7 at the end of extended RIPEMD-160 hash from stage 4. This is the 25-byte binary Bitcoin Address.\n",
    "    addr = f'{hash}{chk[:8]}'\n",
    "    \n",
    "    # 9. Convert the result from a byte string into a base58 string using Base58Check encoding. This is the most commonly used Bitcoin Address format\n",
    "    return hash, base58check.b58encode(bytes.fromhex(addr)).decode()\n"
   ]
  },
  {
   "cell_type": "code",
   "execution_count": 831,
   "metadata": {},
   "outputs": [
    {
     "name": "stdout",
     "output_type": "stream",
     "text": [
      "공개키 hash = 00f54a5851e9372b87810a8e60cdd2e7cfd80b6e31\n",
      "비트코인 주소 = 1PMycacnJaSqwwJqjawXBErnLsZ7RkXUAs\n"
     ]
    }
   ],
   "source": [
    "if __name__ == '__main__':\n",
    "    # 0. Having a private ECDSA key\n",
    "    private_key = int(input('개인키 입력? '), 16)\n",
    "\n",
    "    # 압축 공개키를 이용하여 Public Key Hash를 생성한 후, Base58Check 인코딩 방식의 주소를 출력한다.\n",
    "    hash, addr = generate_addr(private_key)\n",
    "    print(f'공개키 hash = {hash}')\n",
    "    print(f'비트코인 주소 = {addr}')\n"
   ]
  }
 ],
 "metadata": {
  "kernelspec": {
   "display_name": "Python 3",
   "language": "python",
   "name": "python3"
  },
  "language_info": {
   "codemirror_mode": {
    "name": "ipython",
    "version": 3
   },
   "file_extension": ".py",
   "mimetype": "text/x-python",
   "name": "python",
   "nbconvert_exporter": "python",
   "pygments_lexer": "ipython3",
   "version": "3.11.0"
  },
  "orig_nbformat": 4
 },
 "nbformat": 4,
 "nbformat_minor": 2
}
