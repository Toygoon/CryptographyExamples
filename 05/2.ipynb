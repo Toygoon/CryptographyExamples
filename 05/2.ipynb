{
 "cells": [
  {
   "cell_type": "code",
   "execution_count": 61,
   "metadata": {},
   "outputs": [],
   "source": [
    "import time\n",
    "import struct\n",
    "import hashlib\n"
   ]
  },
  {
   "cell_type": "code",
   "execution_count": 62,
   "metadata": {},
   "outputs": [],
   "source": [
    "def pow(msg, bits):\n",
    "    bits = bytes.fromhex(bits)\n",
    "    target = int.from_bytes(bits[1:]) << 8 * (bits[0] - 3)\n",
    "\n",
    "    nonce = 0\n",
    "    ext_nonce = int(time.time())\n",
    "\n",
    "    print(f\"Target: 0x{format(target, 'x').zfill(64)}\")\n",
    "\n",
    "    start = time.time()\n",
    "    while True:\n",
    "        data = msg.encode('utf-8') + struct.pack('<I',\n",
    "                                                 ext_nonce) + struct.pack('<I', nonce)\n",
    "        result = hashlib.sha256(hashlib.sha256(\n",
    "            data).digest()).digest()\n",
    "\n",
    "        if int.from_bytes(result) <= target:\n",
    "            break\n",
    "\n",
    "        nonce += 1\n",
    "\n",
    "        if nonce >= 2**32:\n",
    "            ext_nonce += 1\n",
    "            nonce = 0\n",
    "\n",
    "    end = time.time()\n",
    "\n",
    "    print(f'메시지: {msg}, Extra nonce: {ext_nonce}, nonce: {nonce}')\n",
    "    print(f'실행 시간: {end - start}초')\n",
    "    print(f'Hash result: 0x{result.hex()}')\n"
   ]
  },
  {
   "cell_type": "code",
   "execution_count": 63,
   "metadata": {},
   "outputs": [
    {
     "name": "stdout",
     "output_type": "stream",
     "text": [
      "Target: 0x000000ffff000000000000000000000000000000000000000000000000000000\n",
      "<class 'bytes'>\n",
      "메시지: 학번=123456, Extra nonce: 1680241258, nonce: 22491027\n",
      "실행 시간: 60.80018973350525초\n",
      "Hash result: 0x000000829861bc42e887ac7b9a40ee7fb7dd8ade9a63aac1cdead0eccbb98283\n"
     ]
    }
   ],
   "source": [
    "if __name__ == '__main__':\n",
    "    # msg = input('메시지의 내용? ')\n",
    "    # bits = input('Target bits? ')\n",
    "    \n",
    "    msg = '학번=123456'\n",
    "    bits = '1e00ffff'\n",
    "    \n",
    "    pow(msg, bits)\n"
   ]
  }
 ],
 "metadata": {
  "kernelspec": {
   "display_name": "Python 3",
   "language": "python",
   "name": "python3"
  },
  "language_info": {
   "codemirror_mode": {
    "name": "ipython",
    "version": 3
   },
   "file_extension": ".py",
   "mimetype": "text/x-python",
   "name": "python",
   "nbconvert_exporter": "python",
   "pygments_lexer": "ipython3",
   "version": "3.11.0"
  },
  "orig_nbformat": 4
 },
 "nbformat": 4,
 "nbformat_minor": 2
}
