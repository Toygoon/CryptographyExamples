{
 "cells": [
  {
   "cell_type": "code",
   "execution_count": 66,
   "metadata": {},
   "outputs": [],
   "source": [
    "from bitmap import BitMap\n",
    "import hashlib\n"
   ]
  },
  {
   "cell_type": "code",
   "execution_count": 67,
   "metadata": {},
   "outputs": [],
   "source": [
    "class BloomFilter:\n",
    "    def __init__(self, m, k):\n",
    "        self.m = m\n",
    "        self.k = k\n",
    "        self.n = 0\n",
    "        self.bf: BitMap = BitMap(m)\n",
    "\n",
    "    def getPositions(self, item):\n",
    "        return [int(hashlib.sha256((item + str(i)).encode()).hexdigest(), 16) % self.m for i in range(1, self.k+1)]\n",
    "\n",
    "    def add(self, item):\n",
    "        for p in self.getPositions(item):\n",
    "            self.bf.set(p)\n",
    "\n",
    "        self.n += 1\n",
    "\n",
    "    def contains(self, item):\n",
    "        for p in self.getPositions(item):\n",
    "            if not self.bf.test(p):\n",
    "                return False\n",
    "\n",
    "        return True\n",
    "\n",
    "    def reset(self):\n",
    "        self.bf = BitMap(self.m)\n",
    "        self.n = 0\n",
    "\n",
    "    def __repr__(self):\n",
    "        return f'M = {self.m}, F = {self.k}\\nBitMap = {self.bf}\\n항목의 수 = {self.n}, 1인 비트수 = {self.bf.count()}'\n"
   ]
  },
  {
   "cell_type": "code",
   "execution_count": 68,
   "metadata": {},
   "outputs": [
    {
     "name": "stdout",
     "output_type": "stream",
     "text": [
      "M = 53, F = 3\n",
      "BitMap = 00010010001000000100000000001110000001000010000100001000\n",
      "항목의 수 = 5, 1인 비트수 = 11\n",
      "A True\n",
      "B False\n",
      "C True\n",
      "D False\n",
      "E True\n",
      "F False\n",
      "G False\n",
      "H False\n",
      "I True\n",
      "J False\n"
     ]
    }
   ],
   "source": [
    "if __name__ == '__main__':\n",
    "    bf = BloomFilter(53, 3)\n",
    "    \n",
    "    for ch in 'AEIOU':\n",
    "        bf.add(ch)\n",
    "    print(bf)\n",
    "    for ch in 'ABCDEFGHIJ':\n",
    "        print(ch, bf.contains(ch))\n"
   ]
  }
 ],
 "metadata": {
  "kernelspec": {
   "display_name": "Python 3",
   "language": "python",
   "name": "python3"
  },
  "language_info": {
   "codemirror_mode": {
    "name": "ipython",
    "version": 3
   },
   "file_extension": ".py",
   "mimetype": "text/x-python",
   "name": "python",
   "nbconvert_exporter": "python",
   "pygments_lexer": "ipython3",
   "version": "3.11.0"
  },
  "orig_nbformat": 4
 },
 "nbformat": 4,
 "nbformat_minor": 2
}
